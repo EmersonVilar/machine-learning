{
 "cells": [
  {
   "cell_type": "code",
   "execution_count": 1,
   "metadata": {},
   "outputs": [],
   "source": [
    "import pandas as pd\n",
    "import matplotlib.pyplot as plt\n",
    "import numpy as np"
   ]
  },
  {
   "cell_type": "markdown",
   "metadata": {},
   "source": [
    "End-to-end Machine Learning\n",
    "\n",
    "Link do dataset: https://www.kaggle.com/budincsevity/szeged-weather\n",
    "\n",
    "O problema trata da tentativa de se determinar a Temperatura (C) do hambiente, dado alguns parametros, e em principal, e humidade."
   ]
  },
  {
   "cell_type": "code",
   "execution_count": null,
   "metadata": {
    "scrolled": true
   },
   "outputs": [
    {
     "name": "stdout",
     "output_type": "stream",
     "text": [
      "<class 'pandas.core.frame.DataFrame'>\n",
      "RangeIndex: 96453 entries, 0 to 96452\n",
      "Data columns (total 12 columns):\n",
      "Formatted_Date              96453 non-null object\n",
      "Summary                     96453 non-null object\n",
      "Precip_Type                 95936 non-null object\n",
      "Temperature_(C)             96453 non-null float64\n",
      "Apparent_Temperature_(C)    96453 non-null float64\n",
      "Humidity                    96453 non-null float64\n",
      "Wind_Speed_(km/h)           96453 non-null float64\n",
      "Wind_Bearing_(degrees)      96453 non-null float64\n",
      "Visibility_(km)             96453 non-null float64\n",
      "Loud_Cover                  96453 non-null float64\n",
      "Pressure_(millibars)        96453 non-null float64\n",
      "Daily_Summary               96453 non-null object\n",
      "dtypes: float64(8), object(4)\n",
      "memory usage: 8.8+ MB\n"
     ]
    }
   ],
   "source": [
    "#Inicialmente o dataset é carregado e brevemente análisado\n",
    "\n",
    "#É possível notal que há uma das colunas que possui menos linhas que outras.\n",
    "#Existem várias tecnicas que permitem o preencimento desses espaços que estão em falta, \n",
    "#mas tendo em vista que essa coluna não será tão relevante assim para a análise, ela não será levada em conta.\n",
    "\n",
    "#A titulo de exemplicação, apenas a coluna \"Summary\" do tipo object e todas as outras colunas do tipo float64 \n",
    "#serão usadas no aprendizado.\n",
    "\n",
    "data1 = pd.read_csv('weatherHistory.csv')\n",
    "data1.info()"
   ]
  },
  {
   "cell_type": "code",
   "execution_count": null,
   "metadata": {},
   "outputs": [],
   "source": [
    "#Aqui, são plotados os histogramas das váriaveis do tipo float64\n",
    "\n",
    "data1.hist(bins=50, figsize=(8,6))\n",
    "plt.tight_layout()\n",
    "plt.show()"
   ]
  },
  {
   "cell_type": "code",
   "execution_count": null,
   "metadata": {},
   "outputs": [],
   "source": [
    "from sklearn.model_selection import train_test_split"
   ]
  },
  {
   "cell_type": "code",
   "execution_count": null,
   "metadata": {},
   "outputs": [],
   "source": [
    "#Se é necessário a separação do dataset em test e treino, seguindo com 20% dos dados usados para teste\n",
    "#e o restante para treino\n",
    "\n",
    "train_set, test_set = train_test_split(data1, test_size=0.2, random_state=35)\n",
    "\n",
    "print(\"data has {} instances\\n {} train instances\\n {} test intances\".\n",
    "      format(len(data1),len(train_set),len(test_set)))"
   ]
  },
  {
   "cell_type": "code",
   "execution_count": null,
   "metadata": {},
   "outputs": [],
   "source": [
    "train = train_set.copy()"
   ]
  },
  {
   "cell_type": "code",
   "execution_count": null,
   "metadata": {},
   "outputs": [],
   "source": [
    "#Nesse estágio é onde serão buscadas as colunas com melhor correlação com a Temperatura (C)\n",
    "\n",
    "#Se nota uma alta correção positiva com a coluna Apparent_Temperature_(C), o que ja era esperado\n",
    "# pois a sensação termina geralmente segue em torno da temperatura real\n",
    "\n",
    "#E uma segunda boa correlação, mas dessa vez negativa com a coluna Humidity\n",
    "\n",
    "corr_matrix = train.corr()\n",
    "corr_matrix[\"Temperature_(C)\"].\\\n",
    "  sort_values(ascending=False)"
   ]
  },
  {
   "cell_type": "code",
   "execution_count": null,
   "metadata": {},
   "outputs": [],
   "source": [
    "import seaborn as sns\n",
    "sns.heatmap(train.corr(), \n",
    "            annot=True, fmt=\".2f\")"
   ]
  },
  {
   "cell_type": "code",
   "execution_count": null,
   "metadata": {},
   "outputs": [],
   "source": [
    "# A retirada das colunas \"Formatted_Date\", \"Precip_Type\", \"Daily_Summary\" foi feita com o intuito de\n",
    "# simplificar e diminuição do numero de colunas que será necessário o uso do one-hot encoding, diminuido o tempo\n",
    "# de execução das celulas\n",
    "train_X = train_set.drop([\"Temperature_(C)\", \"Formatted_Date\", \"Precip_Type\", \"Daily_Summary\"], axis=1)\n",
    "\n",
    "train_y = train_set[\"Temperature_(C)\"].copy()"
   ]
  },
  {
   "cell_type": "code",
   "execution_count": null,
   "metadata": {},
   "outputs": [],
   "source": [
    "#Teste que garante que nenhuma das colunas tem nenhuma valor nulo\n",
    "\n",
    "train_X.isnull().sum()"
   ]
  },
  {
   "cell_type": "code",
   "execution_count": null,
   "metadata": {},
   "outputs": [],
   "source": [
    "#A média das temperaturas e seu desvio padão, que são parametos importantes na hora de avaliar o erro \n",
    "#do treino\n",
    "\n",
    "print('Média das temperaturas: ', train_set[\"Temperature_(C)\"].mean())\n",
    "print('Desvio Padrão das temperaturas: ', train_set[\"Temperature_(C)\"].std())"
   ]
  },
  {
   "cell_type": "code",
   "execution_count": null,
   "metadata": {},
   "outputs": [],
   "source": [
    "#Aqui são os valores que a variável categorica assume\n",
    "\n",
    "train_X.Summary.value_counts()"
   ]
  },
  {
   "cell_type": "code",
   "execution_count": null,
   "metadata": {},
   "outputs": [],
   "source": [
    "#Aqui é declarada a class que será usada no pipeline para a seleção de colunas\n",
    "\n",
    "from sklearn.pipeline import Pipeline\n",
    "from sklearn.preprocessing import StandardScaler\n",
    "from sklearn.base import BaseEstimator, TransformerMixin\n",
    "\n",
    "class DataFrameSelector(BaseEstimator, TransformerMixin):\n",
    "    def __init__(self, attribute_names):\n",
    "        self.attribute_names = attribute_names\n",
    "\n",
    "    def fit(self, X, y=None):\n",
    "        return self\n",
    "\n",
    "    def transform(self, X):\n",
    "        return X[self.attribute_names].values"
   ]
  },
  {
   "cell_type": "code",
   "execution_count": null,
   "metadata": {},
   "outputs": [],
   "source": [
    "#Pipeline\n",
    "\n",
    "from sklearn.pipeline import FeatureUnion\n",
    "from future_encoders import OneHotEncoder\n",
    "\n",
    "train_X_num = train_X.drop(\"Summary\", axis=1)\n",
    "\n",
    "num_list = list(train_X_num)\n",
    "\n",
    "cat_attribs = [\"Summary\"]\n",
    "\n",
    "num_pipeline = Pipeline([('selector', DataFrameSelector(num_list)),\n",
    "                         ('std_scaler', StandardScaler())\n",
    "                        ])\n",
    "\n",
    "\n",
    "cat_pipeline = Pipeline([('selector', DataFrameSelector(cat_attribs)),\n",
    "                         ('cat_encoder', OneHotEncoder(sparse=False))\n",
    "                        ])\n",
    "\n",
    "\n",
    "\n",
    "test_pipeline = FeatureUnion(transformer_list=[(\"num_pipeline\", num_pipeline),\n",
    "                                               (\"cat_pipeline\", cat_pipeline)\n",
    "                                              ])\n",
    "\n",
    "train_X_pipeline = test_pipeline.fit_transform(train_X)"
   ]
  },
  {
   "cell_type": "code",
   "execution_count": null,
   "metadata": {},
   "outputs": [],
   "source": [
    "from sklearn.linear_model import LinearRegression\n",
    "\n",
    "#Criação do modelo em regreção linear\n",
    "lin_reg = LinearRegression()\n",
    "\n",
    "#Usando o fit (\"fitando\") o modelo\n",
    "lin_reg.fit(train_X_pipeline, train_y)"
   ]
  },
  {
   "cell_type": "code",
   "execution_count": null,
   "metadata": {},
   "outputs": [],
   "source": [
    "train_X_pipeline.shape"
   ]
  },
  {
   "cell_type": "code",
   "execution_count": null,
   "metadata": {},
   "outputs": [],
   "source": [
    "#Predição dos valores de Temperatura\n",
    "\n",
    "print(\"Predictions:\", lin_reg.predict(train_X_pipeline)) "
   ]
  },
  {
   "cell_type": "code",
   "execution_count": null,
   "metadata": {},
   "outputs": [],
   "source": [
    "from sklearn.metrics import mean_squared_error\n",
    "\n",
    "#Calculo do erro\n",
    "\n",
    "temp_predictions = lin_reg.predict(train_X_pipeline)\n",
    "lin_mse = mean_squared_error(train_y, temp_predictions)\n",
    "lin_rmse = np.sqrt(lin_mse)\n",
    "lin_rmse"
   ]
  },
  {
   "cell_type": "code",
   "execution_count": null,
   "metadata": {},
   "outputs": [],
   "source": []
  }
 ],
 "metadata": {
  "kernelspec": {
   "display_name": "Python 3",
   "language": "python",
   "name": "python3"
  },
  "language_info": {
   "codemirror_mode": {
    "name": "ipython",
    "version": 3
   },
   "file_extension": ".py",
   "mimetype": "text/x-python",
   "name": "python",
   "nbconvert_exporter": "python",
   "pygments_lexer": "ipython3",
   "version": "3.6.4"
  }
 },
 "nbformat": 4,
 "nbformat_minor": 2
}
